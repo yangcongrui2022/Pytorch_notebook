{
  "nbformat": 4,
  "nbformat_minor": 0,
  "metadata": {
    "colab": {
      "provenance": []
    },
    "kernelspec": {
      "name": "python3",
      "display_name": "Python 3"
    },
    "language_info": {
      "name": "python"
    }
  },
  "cells": [
    {
      "cell_type": "markdown",
      "source": [
        "实现 $y=wx$ 线性模型"
      ],
      "metadata": {
        "id": "787tTalObxzj"
      }
    },
    {
      "cell_type": "code",
      "execution_count": 1,
      "metadata": {
        "id": "KsMNnYoKFr6-"
      },
      "outputs": [],
      "source": [
        "%matplotlib inline\n",
        "import numpy as np\n",
        "import matplotlib.pyplot as plt"
      ]
    },
    {
      "cell_type": "markdown",
      "source": [
        "设函数为 $y=2x$"
      ],
      "metadata": {
        "id": "O_w5SNgVb-I2"
      }
    },
    {
      "cell_type": "code",
      "source": [
        "x_data = [2.0, 3.0, 4.0]\n",
        "y_data = [4.0, 6.0, 8.0]"
      ],
      "metadata": {
        "id": "LIyF0FxdHzKG"
      },
      "execution_count": 2,
      "outputs": []
    },
    {
      "cell_type": "markdown",
      "source": [
        "定义前向传播和损失函数\n",
        "\n",
        "前向传播为目标函数 $y=wx$\n",
        "\n",
        "回归问题损失函数为 $MSE = \\frac{1}{n}\\sum_{i=1}^{n}(y_i-\\hat{y_i})^2$\n",
        "\n",
        "求均值的步骤在输出中体现，定义损失函数的时候没有求均值"
      ],
      "metadata": {
        "id": "EqFzVAAWcG3y"
      }
    },
    {
      "cell_type": "code",
      "source": [
        "def forward(x):\n",
        "  return w*x\n",
        "\n",
        "def loss(x, y):\n",
        "  y_pred = forward(x);\n",
        "  return (y-y_pred) ** 2"
      ],
      "metadata": {
        "id": "EFBYtdzKHzMU"
      },
      "execution_count": 3,
      "outputs": []
    },
    {
      "cell_type": "code",
      "source": [
        "w_list = []\n",
        "mse_list = []"
      ],
      "metadata": {
        "id": "snHqE2PYH2-J"
      },
      "execution_count": 4,
      "outputs": []
    },
    {
      "cell_type": "code",
      "source": [
        "# 枚举法\n",
        "for w in np.arange(0.0, 4.0, 0.1):\n",
        "  l_sum = 0\n",
        "  for x_val, y_val in zip(x_data, y_data):\n",
        "    # 前向传播得到预测值y_pred\n",
        "    y_pred_val = forward(x_val)\n",
        "    # 计算每一行向量的损失函数\n",
        "    loss_val = loss(x_val, y_val)\n",
        "    # 将每一行向量的损失函数相加得到总的损失函数\n",
        "    l_sum += loss_val\n",
        "    print(\"\\t\", x_val, y_val, y_pred_val, loss_val)\n",
        "  print(\"MSE=\", l_sum / 3)\n",
        "  w_list.append(w)\n",
        "  mse_list.append(l_sum / 3)"
      ],
      "metadata": {
        "colab": {
          "base_uri": "https://localhost:8080/"
        },
        "id": "TB4aVhbnH5eB",
        "outputId": "8b7c7107-bbfb-45a5-c270-4cc038ebb0d1"
      },
      "execution_count": 10,
      "outputs": [
        {
          "output_type": "stream",
          "name": "stdout",
          "text": [
            "\t 2.0 4.0 0.0 16.0\n",
            "\t 3.0 6.0 0.0 36.0\n",
            "\t 4.0 8.0 0.0 64.0\n",
            "MSE= 38.666666666666664\n",
            "\t 2.0 4.0 0.2 14.44\n",
            "\t 3.0 6.0 0.30000000000000004 32.49\n",
            "\t 4.0 8.0 0.4 57.76\n",
            "MSE= 34.89666666666667\n",
            "\t 2.0 4.0 0.4 12.96\n",
            "\t 3.0 6.0 0.6000000000000001 29.160000000000004\n",
            "\t 4.0 8.0 0.8 51.84\n",
            "MSE= 31.320000000000004\n",
            "\t 2.0 4.0 0.6000000000000001 11.559999999999999\n",
            "\t 3.0 6.0 0.9000000000000001 26.009999999999998\n",
            "\t 4.0 8.0 1.2000000000000002 46.239999999999995\n",
            "MSE= 27.936666666666664\n",
            "\t 2.0 4.0 0.8 10.240000000000002\n",
            "\t 3.0 6.0 1.2000000000000002 23.04\n",
            "\t 4.0 8.0 1.6 40.96000000000001\n",
            "MSE= 24.74666666666667\n",
            "\t 2.0 4.0 1.0 9.0\n",
            "\t 3.0 6.0 1.5 20.25\n",
            "\t 4.0 8.0 2.0 36.0\n",
            "MSE= 21.75\n",
            "\t 2.0 4.0 1.2000000000000002 7.839999999999999\n",
            "\t 3.0 6.0 1.8000000000000003 17.639999999999993\n",
            "\t 4.0 8.0 2.4000000000000004 31.359999999999996\n",
            "MSE= 18.946666666666662\n",
            "\t 2.0 4.0 1.4000000000000001 6.759999999999998\n",
            "\t 3.0 6.0 2.1 15.209999999999999\n",
            "\t 4.0 8.0 2.8000000000000003 27.039999999999992\n",
            "MSE= 16.336666666666662\n",
            "\t 2.0 4.0 1.6 5.76\n",
            "\t 3.0 6.0 2.4000000000000004 12.959999999999997\n",
            "\t 4.0 8.0 3.2 23.04\n",
            "MSE= 13.92\n",
            "\t 2.0 4.0 1.8 4.840000000000001\n",
            "\t 3.0 6.0 2.7 10.889999999999999\n",
            "\t 4.0 8.0 3.6 19.360000000000003\n",
            "MSE= 11.696666666666667\n",
            "\t 2.0 4.0 2.0 4.0\n",
            "\t 3.0 6.0 3.0 9.0\n",
            "\t 4.0 8.0 4.0 16.0\n",
            "MSE= 9.666666666666666\n",
            "\t 2.0 4.0 2.2 3.2399999999999993\n",
            "\t 3.0 6.0 3.3000000000000003 7.289999999999998\n",
            "\t 4.0 8.0 4.4 12.959999999999997\n",
            "MSE= 7.829999999999998\n",
            "\t 2.0 4.0 2.4000000000000004 2.5599999999999987\n",
            "\t 3.0 6.0 3.6000000000000005 5.759999999999997\n",
            "\t 4.0 8.0 4.800000000000001 10.239999999999995\n",
            "MSE= 6.186666666666664\n",
            "\t 2.0 4.0 2.6 1.9599999999999997\n",
            "\t 3.0 6.0 3.9000000000000004 4.409999999999998\n",
            "\t 4.0 8.0 5.2 7.839999999999999\n",
            "MSE= 4.7366666666666655\n",
            "\t 2.0 4.0 2.8000000000000003 1.4399999999999993\n",
            "\t 3.0 6.0 4.2 3.2399999999999993\n",
            "\t 4.0 8.0 5.6000000000000005 5.759999999999997\n",
            "MSE= 3.4799999999999986\n",
            "\t 2.0 4.0 3.0 1.0\n",
            "\t 3.0 6.0 4.5 2.25\n",
            "\t 4.0 8.0 6.0 4.0\n",
            "MSE= 2.4166666666666665\n",
            "\t 2.0 4.0 3.2 0.6399999999999997\n",
            "\t 3.0 6.0 4.800000000000001 1.4399999999999984\n",
            "\t 4.0 8.0 6.4 2.5599999999999987\n",
            "MSE= 1.5466666666666657\n",
            "\t 2.0 4.0 3.4000000000000004 0.3599999999999996\n",
            "\t 3.0 6.0 5.1000000000000005 0.809999999999999\n",
            "\t 4.0 8.0 6.800000000000001 1.4399999999999984\n",
            "MSE= 0.8699999999999989\n",
            "\t 2.0 4.0 3.6 0.15999999999999992\n",
            "\t 3.0 6.0 5.4 0.3599999999999996\n",
            "\t 4.0 8.0 7.2 0.6399999999999997\n",
            "MSE= 0.38666666666666644\n",
            "\t 2.0 4.0 3.8000000000000003 0.0399999999999999\n",
            "\t 3.0 6.0 5.7 0.0899999999999999\n",
            "\t 4.0 8.0 7.6000000000000005 0.1599999999999996\n",
            "MSE= 0.09666666666666646\n",
            "\t 2.0 4.0 4.0 0.0\n",
            "\t 3.0 6.0 6.0 0.0\n",
            "\t 4.0 8.0 8.0 0.0\n",
            "MSE= 0.0\n",
            "\t 2.0 4.0 4.2 0.04000000000000007\n",
            "\t 3.0 6.0 6.300000000000001 0.09000000000000043\n",
            "\t 4.0 8.0 8.4 0.16000000000000028\n",
            "MSE= 0.09666666666666694\n",
            "\t 2.0 4.0 4.4 0.16000000000000028\n",
            "\t 3.0 6.0 6.6000000000000005 0.36000000000000065\n",
            "\t 4.0 8.0 8.8 0.6400000000000011\n",
            "MSE= 0.3866666666666673\n",
            "\t 2.0 4.0 4.6000000000000005 0.36000000000000065\n",
            "\t 3.0 6.0 6.9 0.8100000000000006\n",
            "\t 4.0 8.0 9.200000000000001 1.4400000000000026\n",
            "MSE= 0.8700000000000013\n",
            "\t 2.0 4.0 4.800000000000001 0.6400000000000011\n",
            "\t 3.0 6.0 7.200000000000001 1.4400000000000026\n",
            "\t 4.0 8.0 9.600000000000001 2.5600000000000045\n",
            "MSE= 1.5466666666666693\n",
            "\t 2.0 4.0 5.0 1.0\n",
            "\t 3.0 6.0 7.5 2.25\n",
            "\t 4.0 8.0 10.0 4.0\n",
            "MSE= 2.4166666666666665\n",
            "\t 2.0 4.0 5.2 1.4400000000000004\n",
            "\t 3.0 6.0 7.800000000000001 3.2400000000000024\n",
            "\t 4.0 8.0 10.4 5.760000000000002\n",
            "MSE= 3.4800000000000018\n",
            "\t 2.0 4.0 5.4 1.960000000000001\n",
            "\t 3.0 6.0 8.100000000000001 4.410000000000006\n",
            "\t 4.0 8.0 10.8 7.840000000000004\n",
            "MSE= 4.736666666666671\n",
            "\t 2.0 4.0 5.6000000000000005 2.560000000000002\n",
            "\t 3.0 6.0 8.4 5.760000000000002\n",
            "\t 4.0 8.0 11.200000000000001 10.240000000000007\n",
            "MSE= 6.18666666666667\n",
            "\t 2.0 4.0 5.800000000000001 3.2400000000000024\n",
            "\t 3.0 6.0 8.700000000000001 7.290000000000005\n",
            "\t 4.0 8.0 11.600000000000001 12.96000000000001\n",
            "MSE= 7.830000000000005\n",
            "\t 2.0 4.0 6.0 4.0\n",
            "\t 3.0 6.0 9.0 9.0\n",
            "\t 4.0 8.0 12.0 16.0\n",
            "MSE= 9.666666666666666\n",
            "\t 2.0 4.0 6.2 4.840000000000001\n",
            "\t 3.0 6.0 9.3 10.890000000000004\n",
            "\t 4.0 8.0 12.4 19.360000000000003\n",
            "MSE= 11.696666666666667\n",
            "\t 2.0 4.0 6.4 5.760000000000002\n",
            "\t 3.0 6.0 9.600000000000001 12.96000000000001\n",
            "\t 4.0 8.0 12.8 23.040000000000006\n",
            "MSE= 13.920000000000007\n",
            "\t 2.0 4.0 6.6000000000000005 6.7600000000000025\n",
            "\t 3.0 6.0 9.9 15.210000000000003\n",
            "\t 4.0 8.0 13.200000000000001 27.04000000000001\n",
            "MSE= 16.336666666666673\n",
            "\t 2.0 4.0 6.800000000000001 7.840000000000004\n",
            "\t 3.0 6.0 10.200000000000001 17.640000000000008\n",
            "\t 4.0 8.0 13.600000000000001 31.360000000000017\n",
            "MSE= 18.946666666666676\n",
            "\t 2.0 4.0 7.0 9.0\n",
            "\t 3.0 6.0 10.5 20.25\n",
            "\t 4.0 8.0 14.0 36.0\n",
            "MSE= 21.75\n",
            "\t 2.0 4.0 7.2 10.240000000000002\n",
            "\t 3.0 6.0 10.8 23.040000000000006\n",
            "\t 4.0 8.0 14.4 40.96000000000001\n",
            "MSE= 24.74666666666667\n",
            "\t 2.0 4.0 7.4 11.560000000000002\n",
            "\t 3.0 6.0 11.100000000000001 26.010000000000016\n",
            "\t 4.0 8.0 14.8 46.24000000000001\n",
            "MSE= 27.936666666666678\n",
            "\t 2.0 4.0 7.6000000000000005 12.960000000000004\n",
            "\t 3.0 6.0 11.4 29.160000000000004\n",
            "\t 4.0 8.0 15.200000000000001 51.84000000000002\n",
            "MSE= 31.320000000000007\n",
            "\t 2.0 4.0 7.800000000000001 14.440000000000005\n",
            "\t 3.0 6.0 11.700000000000001 32.49000000000001\n",
            "\t 4.0 8.0 15.600000000000001 57.76000000000002\n",
            "MSE= 34.896666666666675\n"
          ]
        }
      ]
    },
    {
      "cell_type": "code",
      "source": [
        "plt.plot(w_list, mse_list)\n",
        "plt.xlabel(\"w\")\n",
        "plt.ylabel(\"mse\")\n",
        "plt.show()"
      ],
      "metadata": {
        "colab": {
          "base_uri": "https://localhost:8080/",
          "height": 280
        },
        "id": "476O0L9eH8-1",
        "outputId": "9324433b-0ee7-4148-fe6d-804d04a335a4"
      },
      "execution_count": 11,
      "outputs": [
        {
          "output_type": "display_data",
          "data": {
            "text/plain": [
              "<Figure size 432x288 with 1 Axes>"
            ],
            "image/png": "[encoded data removed]"
          },
          "metadata": {
            "needs_background": "light"
          }
        }
      ]
    },
    {
      "cell_type": "markdown",
      "source": [
        "### 扩展"
      ],
      "metadata": {
        "id": "fDp5AR6efOUl"
      }
    },
    {
      "cell_type": "code",
      "source": [
        "# zip的用法\n",
        "a = (1, 2, 3)\n",
        "b = [4, 5, 6]\n",
        "c = \"abc\"\n",
        "d = zip(a, b, c)\n",
        "\n",
        "for a_val, b_val, c_val in d:\n",
        "  print(\"a_val:\", a_val, \"b_val:\", b_val, \"c_val:\", c_val)\n",
        "\n",
        "# zip该函数返回一个以元组为元素的列表，其中第 i 个元组包含每个参数序列的第 i 个元素。"
      ],
      "metadata": {
        "colab": {
          "base_uri": "https://localhost:8080/"
        },
        "id": "6hmPmQefdqXZ",
        "outputId": "798a895d-5e10-4cbe-f72e-3484fc165028"
      },
      "execution_count": 12,
      "outputs": [
        {
          "output_type": "stream",
          "name": "stdout",
          "text": [
            "a_val: 1 b_val: 4 c_val: a\n",
            "a_val: 2 b_val: 5 c_val: b\n",
            "a_val: 3 b_val: 6 c_val: c\n"
          ]
        }
      ]
    }
  ]
}