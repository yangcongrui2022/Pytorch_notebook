{
  "nbformat": 4,
  "nbformat_minor": 0,
  "metadata": {
    "colab": {
      "provenance": []
    },
    "kernelspec": {
      "name": "python3",
      "display_name": "Python 3"
    },
    "language_info": {
      "name": "python"
    }
  },
  "cells": [
    {
      "cell_type": "markdown",
      "source": [
        "BGD 采用整个训练集的数据来计算 cost function 对参数的梯度。"
      ],
      "metadata": {
        "id": "tKTGGVzdrhUZ"
      }
    },
    {
      "cell_type": "code",
      "execution_count": 11,
      "metadata": {
        "id": "4EKEKnTy0dhZ"
      },
      "outputs": [],
      "source": [
        "%matplotlib inline\n",
        "import numpy as np\n",
        "import matplotlib.pyplot as plt"
      ]
    },
    {
      "cell_type": "markdown",
      "source": [
        "目标函数 $y=2x$"
      ],
      "metadata": {
        "id": "MU_yPTBJmW_w"
      }
    },
    {
      "cell_type": "code",
      "source": [
        "x_data = [1.0, 2.0, 3.0]\n",
        "y_data = [2.0, 4.0, 6.0]\n",
        "\n",
        "# 初始化权重 w\n",
        "w = 1.0"
      ],
      "metadata": {
        "id": "JMD_H93K0lnN"
      },
      "execution_count": 12,
      "outputs": []
    },
    {
      "cell_type": "code",
      "source": [
        "def forward(x):\n",
        "  return w * x\n",
        "# 梯度下降法中，cost为所有数据的loss求和\n",
        "def cost(xs, ys):\n",
        "  cost = 0;\n",
        "  for x, y in zip(xs, ys):\n",
        "    y_pred = forward(x)\n",
        "    cost += (y_pred - y) ** 2\n",
        "  return cost / len(xs)\n",
        "# 梯度也是所有数据的梯度\n",
        "def gradient(xs, ys):\n",
        "  grad = 0\n",
        "  for x, y in zip(xs, ys):\n",
        "    y_pred = forward(x)\n",
        "    grad += 2 * x * (y_pred - y) # 公式为损失函数对优化参数 w 求偏导得出\n",
        "  return grad / len(xs)\n",
        "\n",
        "epoch_list = []\n",
        "cost_list = []"
      ],
      "metadata": {
        "id": "XZ4dd3Qz0qzv"
      },
      "execution_count": 13,
      "outputs": []
    },
    {
      "cell_type": "code",
      "source": [
        "print('Predict (before training)', 4, forward(4))\n",
        "for epoch in range(100):\n",
        "  # 计算代价函数\n",
        "  cost_val = cost(x_data, y_data)\n",
        "  # 计算梯度\n",
        "  grad_val = gradient(x_data, y_data)\n",
        "  # 反向传播更新参数\n",
        "  w -= 0.01 * grad_val\n",
        "  epoch_list.append(epoch)\n",
        "  cost_list.append(cost_val)\n",
        "  if(epoch % 10 == 0):\n",
        "    print('epoch:', epoch, 'w=', w, 'cost=', cost_val)\n",
        "print('Predict (after training)', 4, forward(4))"
      ],
      "metadata": {
        "colab": {
          "base_uri": "https://localhost:8080/"
        },
        "id": "uw7IiGxo2lyW",
        "outputId": "869213d7-ade9-4016-9baa-35406bc485df"
      },
      "execution_count": 14,
      "outputs": [
        {
          "output_type": "stream",
          "name": "stdout",
          "text": [
            "epoch: 0 w= 1.0933333333333333 cost= 4.666666666666667\n",
            "epoch: 10 w= 1.659651263674342 cost= 0.6575969151946154\n",
            "epoch: 20 w= 1.872238313619332 cost= 0.09266436490145864\n",
            "epoch: 30 w= 1.952040225907542 cost= 0.01305767153735723\n",
            "epoch: 40 w= 1.9819966376762883 cost= 0.001840003826269386\n",
            "epoch: 50 w= 1.9932418143935788 cost= 0.0002592816085930997\n",
            "epoch: 60 w= 1.9974630809584561 cost= 3.65363112808981e-05\n",
            "epoch: 70 w= 1.9990476795699081 cost= 5.1484640551938914e-06\n",
            "epoch: 80 w= 1.9996425135423248 cost= 7.254887315754342e-07\n",
            "epoch: 90 w= 1.9998658050763347 cost= 1.0223124683409346e-07\n"
          ]
        }
      ]
    },
    {
      "cell_type": "code",
      "source": [
        "plt.plot(epoch_list, cost_list)\n",
        "plt.xlabel('epoches')\n",
        "plt.ylabel('cost')\n",
        "plt.show()"
      ],
      "metadata": {
        "colab": {
          "base_uri": "https://localhost:8080/",
          "height": 279
        },
        "id": "zgEArbzF3iR9",
        "outputId": "60acec69-18bc-401e-de8d-84d6bb6a20af"
      },
      "execution_count": 15,
      "outputs": [
        {
          "output_type": "display_data",
          "data": {
            "text/plain": [
              "<Figure size 432x288 with 1 Axes>"
            ],
            "image/png": "[encoded data removed]"
          },
          "metadata": {
            "needs_background": "light"
          }
        }
      ]
    }
  ]
}