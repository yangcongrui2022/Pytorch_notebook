{
  "nbformat": 4,
  "nbformat_minor": 0,
  "metadata": {
    "colab": {
      "provenance": []
    },
    "kernelspec": {
      "name": "python3",
      "display_name": "Python 3"
    },
    "language_info": {
      "name": "python"
    }
  },
  "cells": [
    {
      "cell_type": "code",
      "execution_count": 30,
      "metadata": {
        "id": "QJkbsR3wuGx0"
      },
      "outputs": [],
      "source": [
        "%matplotlib inline\n",
        "import numpy as np\n",
        "import matplotlib.pyplot as plt"
      ]
    },
    {
      "cell_type": "markdown",
      "source": [
        "目标函数 $y=2x$"
      ],
      "metadata": {
        "id": "40zwZ0-DuLlM"
      }
    },
    {
      "cell_type": "code",
      "source": [
        "x_data = [1.0, 2.0, 3.0]\n",
        "y_data = [2.0, 4.0, 6.0]\n",
        "\n",
        "w = 1.0"
      ],
      "metadata": {
        "id": "ChljKP_MuLFv"
      },
      "execution_count": 31,
      "outputs": []
    },
    {
      "cell_type": "code",
      "source": [
        "def forward(x):\n",
        "  return w * x\n",
        "# 小批量随机梯度下降法中，计算的是单个批量的loss\n",
        "def loss(xs, ys):\n",
        "  loss = 0;\n",
        "  for x, y in zip(xs, ys):\n",
        "    y_pred = forward(x)\n",
        "    loss += (y_pred - y) ** 2\n",
        "  return loss / len(xs)\n",
        "# 梯度是单个批量的梯度求和\n",
        "def gradient(xs, ys):\n",
        "  grad = 0\n",
        "  for x, y in zip(xs, ys):\n",
        "    y_pred = forward(x)\n",
        "    grad += 2 * x * (y_pred - y)\n",
        "  return grad / len(xs)\n",
        "\n",
        "epoch_list = []\n",
        "loss_list = []\n",
        "\n",
        "train_size = len(x_data)\n",
        "batch_size = 2"
      ],
      "metadata": {
        "id": "nJUEBNsquR9i"
      },
      "execution_count": 32,
      "outputs": []
    },
    {
      "cell_type": "code",
      "source": [
        "print('Predict (before training)', 4, forward(4))\n",
        "for epoch in range(100):\n",
        "  batch_idx = np.random.choice(train_size, batch_size)\n",
        "  x_batch = np.array(x_data)[batch_idx]\n",
        "  y_batch = np.array(y_data)[batch_idx]\n",
        "\n",
        "  loss_val = loss(x_batch, y_batch)\n",
        "  grad_val = gradient(x_batch, y_batch)\n",
        "  w -= 0.01 * grad_val\n",
        "\n",
        "  epoch_list.append(epoch)\n",
        "  loss_list.append(loss_val)\n",
        "  if(epoch % 10 == 0):\n",
        "    print('epoch:', epoch, 'w=', w, 'loss=', loss_val)\n",
        "print('Predict (after training)', 4, forward(4))"
      ],
      "metadata": {
        "colab": {
          "base_uri": "https://localhost:8080/"
        },
        "id": "jjn6rGNRu7ds",
        "outputId": "371604ac-fc53-4753-ac9f-4fa95d3a0838"
      },
      "execution_count": 33,
      "outputs": [
        {
          "output_type": "stream",
          "name": "stdout",
          "text": [
            "Predict (before training) 4 4.0\n",
            "epoch: 0 w= 1.1 loss= 5.0\n",
            "epoch: 10 w= 1.690374304343856 loss= 1.2831835852096365\n",
            "epoch: 20 w= 1.8791930447178264 loss= 0.015196085427477203\n",
            "epoch: 30 w= 1.949592242952658 loss= 0.01568482697866569\n",
            "epoch: 40 w= 1.9809318747799534 loss= 0.0017183052902049983\n",
            "epoch: 50 w= 1.9930971572303897 loss= 0.00029413110062938936\n",
            "epoch: 60 w= 1.9969080281936014 loss= 0.00012796342484246612\n",
            "epoch: 70 w= 1.9987888366753783 loss= 6.932498104483055e-06\n",
            "epoch: 80 w= 1.9995795112800911 loss= 1.5183907559898789e-06\n",
            "epoch: 90 w= 1.9998256177919431 loss= 8.423588500495405e-08\n",
            "Predict (after training) 4 7.999761247223591\n"
          ]
        }
      ]
    },
    {
      "cell_type": "code",
      "source": [
        "plt.plot(epoch_list, loss_list)\n",
        "plt.xlabel('epoches')\n",
        "plt.ylabel('loss')\n",
        "plt.show()"
      ],
      "metadata": {
        "colab": {
          "base_uri": "https://localhost:8080/",
          "height": 279
        },
        "id": "xzHto-3Qv2rK",
        "outputId": "4e06a976-5011-4c74-96fe-cf77c0dd8572"
      },
      "execution_count": 34,
      "outputs": [
        {
          "output_type": "display_data",
          "data": {
            "text/plain": [
              "<Figure size 432x288 with 1 Axes>"
            ],
            "image/png": "[encoded data removed]"
          },
          "metadata": {
            "needs_background": "light"
          }
        }
      ]
    }
  ]
}