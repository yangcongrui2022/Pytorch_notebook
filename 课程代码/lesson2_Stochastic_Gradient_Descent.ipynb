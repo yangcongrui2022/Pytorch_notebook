{
  "nbformat": 4,
  "nbformat_minor": 0,
  "metadata": {
    "colab": {
      "provenance": []
    },
    "kernelspec": {
      "name": "python3",
      "display_name": "Python 3"
    },
    "language_info": {
      "name": "python"
    }
  },
  "cells": [
    {
      "cell_type": "markdown",
      "source": [
        "BGD 每次用所有数据计算梯度相比，当数据集较大时，计算代价也非常大，SGD 每次只对单个样本进行更新，计算代价较小，但可能会学习到噪音，使得SGD并不是每次迭代都向着整体最优化方向前进。结合两者的优点，在神经网络中一般采用小批量随机梯度下降法 Mini-Batch GD\n"
      ],
      "metadata": {
        "id": "h-vphcqio9VG"
      }
    },
    {
      "cell_type": "code",
      "execution_count": 1,
      "metadata": {
        "id": "yzzkYq2R4S4D"
      },
      "outputs": [],
      "source": [
        "%matplotlib inline\n",
        "import numpy as np\n",
        "import matplotlib.pyplot as plt"
      ]
    },
    {
      "cell_type": "markdown",
      "source": [
        "目标函数 $y=2x$"
      ],
      "metadata": {
        "id": "Gk9NgMVTomFG"
      }
    },
    {
      "cell_type": "code",
      "source": [
        "x_data = [1.0, 2.0, 3.0]\n",
        "y_data = [2.0, 4.0, 6.0]\n",
        "\n",
        "w = 1.0"
      ],
      "metadata": {
        "id": "zCRUNO0c4hQm"
      },
      "execution_count": 2,
      "outputs": []
    },
    {
      "cell_type": "markdown",
      "source": [
        "损失函数（Loss Function ）是定义在单个样本上的，算的是一个样本的误差。 代价函数（Cost Function ）是定义在整个训练集上的，是所有样本误差的平均，也就是损失函数的平均。"
      ],
      "metadata": {
        "id": "zpDYtB0LsqB6"
      }
    },
    {
      "cell_type": "code",
      "source": [
        "def forward(x):\n",
        "  return w * x\n",
        "# 随机梯度下降法中，计算的是单个数据的loss\n",
        "def loss(x, y):\n",
        "  y_pred = forward(x)\n",
        "  return (y_pred - y) ** 2\n",
        "# 梯度是单个数据的梯度\n",
        "def gradient(x, y):\n",
        "  y_pred = forward(x)\n",
        "  return 2 * x * (y_pred - y)\n",
        "\n",
        "epoch_list = []\n",
        "loss_list = []    "
      ],
      "metadata": {
        "id": "bKGBWfnd4nC3"
      },
      "execution_count": 3,
      "outputs": []
    },
    {
      "cell_type": "code",
      "source": [
        "print('Predict (before training)', 4, forward(4))\n",
        "for epoch in range(100):\n",
        "  for x, y in zip(x_data, y_data):\n",
        "    loss_val = loss(x, y)\n",
        "    grad_val = gradient(x, y)\n",
        "    w -= 0.01 * grad_val\n",
        "\n",
        "  epoch_list.append(epoch)\n",
        "  loss_list.append(loss_val)\n",
        "  if(epoch % 10 == 0):\n",
        "    print('epoch:', epoch, 'w=', w, 'loss=', loss_val)\n",
        "print('Predict (after training)', 4, forward(4))"
      ],
      "metadata": {
        "colab": {
          "base_uri": "https://localhost:8080/"
        },
        "id": "oS8teohh5gsL",
        "outputId": "b12e8c26-fb89-4b71-ce35-06b60fd29fa0"
      },
      "execution_count": 8,
      "outputs": [
        {
          "output_type": "stream",
          "name": "stdout",
          "text": [
            "Predict (before training) 4 7.999999999999997\n",
            "epoch: 0 w= 1.9999999999999993 loss= 3.1554436208840472e-30\n",
            "epoch: 10 w= 1.9999999999999993 loss= 3.1554436208840472e-30\n",
            "epoch: 20 w= 1.9999999999999993 loss= 3.1554436208840472e-30\n",
            "epoch: 30 w= 1.9999999999999993 loss= 3.1554436208840472e-30\n",
            "epoch: 40 w= 1.9999999999999993 loss= 3.1554436208840472e-30\n",
            "epoch: 50 w= 1.9999999999999993 loss= 3.1554436208840472e-30\n",
            "epoch: 60 w= 1.9999999999999993 loss= 3.1554436208840472e-30\n",
            "epoch: 70 w= 1.9999999999999993 loss= 3.1554436208840472e-30\n",
            "epoch: 80 w= 1.9999999999999993 loss= 3.1554436208840472e-30\n",
            "epoch: 90 w= 1.9999999999999993 loss= 3.1554436208840472e-30\n",
            "Predict (after training) 4 7.999999999999997\n"
          ]
        }
      ]
    },
    {
      "cell_type": "code",
      "source": [
        "plt.plot(epoch_list, loss_list)\n",
        "plt.xlabel('epoches')\n",
        "plt.ylabel('loss')\n",
        "plt.show()"
      ],
      "metadata": {
        "colab": {
          "base_uri": "https://localhost:8080/",
          "height": 279
        },
        "id": "wDL7yjan6Oyq",
        "outputId": "11f7237e-0ce1-41c6-8473-41b4bfc9717e"
      },
      "execution_count": 9,
      "outputs": [
        {
          "output_type": "display_data",
          "data": {
            "text/plain": [
              "<Figure size 432x288 with 1 Axes>"
            ],
            "image/png": "[encoded data removed]"
          },
          "metadata": {
            "needs_background": "light"
          }
        }
      ]
    }
  ]
}