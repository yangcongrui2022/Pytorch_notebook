{
  "nbformat": 4,
  "nbformat_minor": 0,
  "metadata": {
    "colab": {
      "provenance": []
    },
    "kernelspec": {
      "name": "python3",
      "display_name": "Python 3"
    },
    "language_info": {
      "name": "python"
    }
  },
  "cells": [
    {
      "cell_type": "code",
      "execution_count": 1,
      "metadata": {
        "id": "tAr_TF-HMO8Y"
      },
      "outputs": [],
      "source": [
        "%matplotlib inline\n",
        "import torch\n",
        "import matplotlib.pyplot as plt"
      ]
    },
    {
      "cell_type": "markdown",
      "source": [
        "目标函数 $y=2x$"
      ],
      "metadata": {
        "id": "Uri1a-0XFI3s"
      }
    },
    {
      "cell_type": "code",
      "source": [
        "x_data = [1.0, 2.0, 3.0]\n",
        "y_data = [2.0, 4.0, 6.0]\n",
        "\n",
        "w = torch.tensor([1.0])\n",
        "w.requires_grad = True"
      ],
      "metadata": {
        "id": "EzaLsNT9MTWK"
      },
      "execution_count": 2,
      "outputs": []
    },
    {
      "cell_type": "markdown",
      "source": [
        "w 是 Tensor(张量类型)，Tensor 中包含 data 和 grad（可以类比一个链表节点包含节点值和next指针），data 和 grad 也是 Tensor。grad 初始为 None，如果需要求梯度需要显示说明。"
      ],
      "metadata": {
        "id": "13CrFwBPFcIb"
      }
    },
    {
      "cell_type": "code",
      "source": [
        "def forward(x):\n",
        "  return w * x\n",
        "\n",
        "def loss(x, y):\n",
        "  y_pred = forward(x)\n",
        "  return (y_pred - y) ** 2\n",
        "\n",
        "epoch_list = []\n",
        "loss_list = []"
      ],
      "metadata": {
        "id": "1nq1CoM3Mn5B"
      },
      "execution_count": 3,
      "outputs": []
    },
    {
      "cell_type": "markdown",
      "source": [
        "`.backward()` 会求出所有需要求梯度的参数的梯度，把梯度都存在对应的待求的参数中，最终计算图被释放\n",
        "\n",
        "w 是一个 tensor 张量，取出数值需要用 w.data 取出， w.grad.data 表示 w 的梯度值用于 w.data 的更新\n",
        "\n",
        "每一个迭代的梯度不会自动消失，需要手动清除梯度，否则 n 次迭代的梯度会叠加"
      ],
      "metadata": {
        "id": "cNdCHL5vGxvk"
      }
    },
    {
      "cell_type": "code",
      "source": [
        "print('Predict (before training)', 4, forward(4))\n",
        "for epoch in range(100):\n",
        "  for x, y in zip(x_data, y_data):\n",
        "    loss_val = loss(x, y)\n",
        "    loss_val.backward()\n",
        "    w.data -= 0.01 * w.grad.data\n",
        "\n",
        "    w.grad.data.zero_()\n",
        "\n",
        "  epoch_list.append(epoch)\n",
        "  loss_list.append(loss_val.item())\n",
        "  if epoch % 10 == 0:\n",
        "    print('epoch:', epoch, 'loss=', loss_val.item())\n",
        "\n",
        "print('Predict (after training)', 4, forward(4).item())"
      ],
      "metadata": {
        "colab": {
          "base_uri": "https://localhost:8080/"
        },
        "id": "UFyshYyCM-m5",
        "outputId": "3119cccb-bd25-4ba3-8c52-8cb5613cf9e1"
      },
      "execution_count": 4,
      "outputs": [
        {
          "output_type": "stream",
          "name": "stdout",
          "text": [
            "Predict (before training) 4 tensor([4.], grad_fn=<MulBackward0>)\n",
            "epoch: 0 loss= 7.315943717956543\n",
            "epoch: 10 loss= 0.017410902306437492\n",
            "epoch: 20 loss= 4.143271507928148e-05\n",
            "epoch: 30 loss= 9.874406714516226e-08\n",
            "epoch: 40 loss= 2.3283064365386963e-10\n",
            "epoch: 50 loss= 9.094947017729282e-13\n",
            "epoch: 60 loss= 9.094947017729282e-13\n",
            "epoch: 70 loss= 9.094947017729282e-13\n",
            "epoch: 80 loss= 9.094947017729282e-13\n",
            "epoch: 90 loss= 9.094947017729282e-13\n",
            "Predict (after training) 4 7.999998569488525\n"
          ]
        }
      ]
    },
    {
      "cell_type": "code",
      "source": [
        "plt.plot(epoch_list, loss_list)\n",
        "plt.xlabel('epoches')\n",
        "plt.ylabel('loss')\n",
        "plt.show()"
      ],
      "metadata": {
        "colab": {
          "base_uri": "https://localhost:8080/",
          "height": 279
        },
        "id": "VfvhVbojN4bQ",
        "outputId": "3e20dc81-cafd-482a-a0b3-fda40a70a688"
      },
      "execution_count": 5,
      "outputs": [
        {
          "output_type": "display_data",
          "data": {
            "text/plain": [
              "<Figure size 432x288 with 1 Axes>"
            ],
            "image/png": "[encoded data removed]"
          },
          "metadata": {
            "needs_background": "light"
          }
        }
      ]
    }
  ]
}