{
  "nbformat": 4,
  "nbformat_minor": 0,
  "metadata": {
    "colab": {
      "provenance": []
    },
    "kernelspec": {
      "name": "python3",
      "display_name": "Python 3"
    },
    "language_info": {
      "name": "python"
    }
  },
  "cells": [
    {
      "cell_type": "code",
      "execution_count": 1,
      "metadata": {
        "id": "klI5QzuHTxvo"
      },
      "outputs": [],
      "source": [
        "%matplotlib inline\n",
        "import torch\n",
        "import matplotlib.pyplot as plt"
      ]
    },
    {
      "cell_type": "markdown",
      "source": [
        "目标函数 $y=w_1x^2+w_2x+b$"
      ],
      "metadata": {
        "id": "KRa4ZUtsH7hT"
      }
    },
    {
      "cell_type": "code",
      "source": [
        "x_data = [1.0, 2.0, 3.0]\n",
        "y_data = [2.0, 4.0, 6.0]\n",
        "\n",
        "w1 = torch.tensor([1.0])\n",
        "w2 = torch.tensor([1.0])\n",
        "b = torch.tensor([1.0])\n",
        "\n",
        "w1.requires_grad = True\n",
        "w2.requires_grad = True\n",
        "b.requires_grad = True"
      ],
      "metadata": {
        "id": "Is5xWlwvUiIf"
      },
      "execution_count": 2,
      "outputs": []
    },
    {
      "cell_type": "code",
      "source": [
        "def forward(x):\n",
        "  return w1 * x ** 2 + w2 * x + b\n",
        "\n",
        "def loss(x, y):\n",
        "  y_pred = forward(x)\n",
        "  return (y_pred - y) ** 2\n",
        "\n",
        "loss_list = []\n",
        "epoch_list = []"
      ],
      "metadata": {
        "id": "qI7-8GIUVG88"
      },
      "execution_count": 3,
      "outputs": []
    },
    {
      "cell_type": "code",
      "source": [
        "print('Predict (before training)', 4, forward(4))\n",
        "for epoch in range(100):\n",
        "  for x, y in zip(x_data, y_data):\n",
        "    loss_val = loss(x, y)\n",
        "    loss_val.backward()\n",
        "\n",
        "    w1.data -= 0.01 * w1.grad.data\n",
        "    w2.data -= 0.01 * w2.grad.data\n",
        "    b.data -= 0.01 * b.grad.data\n",
        "\n",
        "    w1.grad.data.zero_() #释放之前计算的梯度\n",
        "    w2.grad.data.zero_()\n",
        "    b.grad.data.zero_()\n",
        "\n",
        "  epoch_list.append(epoch)\n",
        "  loss_list.append(loss_val.item())\n",
        "  if epoch % 10 == 0:\n",
        "    print('epoch:', epoch, 'loss=', loss_val.item())\n",
        "\n",
        "print('Predict (after training)', 4, forward(4).item())"
      ],
      "metadata": {
        "colab": {
          "base_uri": "https://localhost:8080/"
        },
        "id": "op4bqv0-VYwx",
        "outputId": "e24640fe-9afb-4fcf-c1a8-de46459e3608"
      },
      "execution_count": 4,
      "outputs": [
        {
          "output_type": "stream",
          "name": "stdout",
          "text": [
            "Predict (before training) 4 tensor([21.], grad_fn=<AddBackward0>)\n",
            "epoch: 0 loss= 18.321826934814453\n",
            "epoch: 10 loss= 0.02848036028444767\n",
            "epoch: 20 loss= 0.019148115068674088\n",
            "epoch: 30 loss= 0.014172340743243694\n",
            "epoch: 40 loss= 0.011208509095013142\n",
            "epoch: 50 loss= 0.00937769003212452\n",
            "epoch: 60 loss= 0.00820931326597929\n",
            "epoch: 70 loss= 0.007440924644470215\n",
            "epoch: 80 loss= 0.006920332089066505\n",
            "epoch: 90 loss= 0.0065572685562074184\n",
            "Predict (after training) 4 8.544171333312988\n"
          ]
        }
      ]
    },
    {
      "cell_type": "markdown",
      "source": [
        "预测结果和目标函数有差距的原因是，我们给定的 x 和 y 的关系并不能满足目标函数，所以得到的结果会有偏差"
      ],
      "metadata": {
        "id": "8lQz-UP_IecE"
      }
    },
    {
      "cell_type": "code",
      "source": [
        "plt.plot(epoch_list, loss_list)\n",
        "plt.xlabel('epoches')\n",
        "plt.ylabel('loss')\n",
        "plt.show()"
      ],
      "metadata": {
        "colab": {
          "base_uri": "https://localhost:8080/",
          "height": 279
        },
        "id": "j_2XfXI7WS9m",
        "outputId": "a1f48b67-e7f8-400c-c38f-05bec7435824"
      },
      "execution_count": 5,
      "outputs": [
        {
          "output_type": "display_data",
          "data": {
            "text/plain": [
              "<Figure size 432x288 with 1 Axes>"
            ],
            "image/png": "[encoded data removed]"
          },
          "metadata": {
            "needs_background": "light"
          }
        }
      ]
    }
  ]
}