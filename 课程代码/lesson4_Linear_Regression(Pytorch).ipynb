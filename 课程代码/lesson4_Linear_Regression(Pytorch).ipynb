{
  "nbformat": 4,
  "nbformat_minor": 0,
  "metadata": {
    "colab": {
      "provenance": []
    },
    "kernelspec": {
      "name": "python3",
      "display_name": "Python 3"
    },
    "language_info": {
      "name": "python"
    }
  },
  "cells": [
    {
      "cell_type": "code",
      "execution_count": 13,
      "metadata": {
        "id": "DKehJLwX29q_"
      },
      "outputs": [],
      "source": [
        "%matplotlib inline\n",
        "import torch\n",
        "import matplotlib.pyplot as plt"
      ]
    },
    {
      "cell_type": "markdown",
      "source": [
        "输入数据为 $3*1$ 矩阵形式"
      ],
      "metadata": {
        "id": "wayqt_cK6scs"
      }
    },
    {
      "cell_type": "code",
      "source": [
        "x_data = torch.tensor([[1.0], [2.0], [3.0]])\n",
        "y_data = torch.tensor([[2.0], [4.0], [6.0]])"
      ],
      "metadata": {
        "id": "8yzdVKmb3Cz_"
      },
      "execution_count": 14,
      "outputs": []
    },
    {
      "cell_type": "code",
      "source": [
        "class LinearModel(torch.nn.Module):\n",
        "  def __init__(self): # 初始化模型\n",
        "    super(LinearModel, self).__init__() # 继承父类torch.nn.Module的初始化项\n",
        "    self.linear = torch.nn.Linear(1, 1) # 初始化父类torch.nn.Linear(a, b) a表示数据输入维度，b表示输出维度\n",
        "  def forward(self, x): # 定义前向传播（必须）\n",
        "    y_pred = self.linear(x) # 调用linear模块中的前向传播函数\n",
        "    return y_pred\n",
        "\n",
        "model = LinearModel() # 实例化模型"
      ],
      "metadata": {
        "id": "H2rJ3hm33PxT"
      },
      "execution_count": 15,
      "outputs": []
    },
    {
      "cell_type": "code",
      "source": [
        "criterion = torch.nn.MSELoss(size_average=False) # 定义损失函数\n",
        "optimizer = torch.optim.SGD(model.parameters(), lr=0.01) # 定义优化器，model.parameters()会扫描module中的所有成员，如果成员中有相应权重，那么都会将结果加到要训练的参数集合上\n",
        "# optimizer = torch.optim.Adam(model.parameters(), lr=0.01)\n",
        "# optimizer = torch.optim.ASGD(model.parameters(), lr=0.01)\n",
        "# optimizer = torch.optim.RMSprop(model.parameters(), lr=0.01)\n",
        "# optimizer = torch.optim.Adamax(model.parameters(), lr=0.01)\n",
        "\n",
        "loss_list = []\n",
        "epoch_list = []"
      ],
      "metadata": {
        "colab": {
          "base_uri": "https://localhost:8080/"
        },
        "id": "mgHNPFhM31qF",
        "outputId": "97b35735-e590-4577-c68f-899f24704061"
      },
      "execution_count": 16,
      "outputs": [
        {
          "output_type": "stream",
          "name": "stderr",
          "text": [
            "/usr/local/lib/python3.9/dist-packages/torch/nn/_reduction.py:42: UserWarning: size_average and reduce args will be deprecated, please use reduction='sum' instead.\n",
            "  warnings.warn(warning.format(ret))\n"
          ]
        }
      ]
    },
    {
      "cell_type": "code",
      "source": [
        "for epoch in range(100):\n",
        "  # 1.前向传播计算损失\n",
        "  y_pred = model(x_data)\n",
        "  loss = criterion(y_pred, y_data)\n",
        "\n",
        "  epoch_list.append(epoch)\n",
        "  loss_list.append(loss.item())\n",
        "  # 梯度清零\n",
        "  optimizer.zero_grad()\n",
        "  # 2.反向传播\n",
        "  loss.backward()\n",
        "  # 3.更新参数\n",
        "  optimizer.step()\n",
        "  if epoch % 10 == 0:\n",
        "    print('epoch=', epoch, 'w=', model.linear.weight.item(), 'b=', model.linear.bias.item())\n",
        "\n",
        "x_test = torch.tensor([4.0])\n",
        "y_test = model(x_test)\n",
        "\n",
        "print(\"y_pred=\", y_test.data)"
      ],
      "metadata": {
        "colab": {
          "base_uri": "https://localhost:8080/"
        },
        "id": "z3BEMttd4U4h",
        "outputId": "9f5a1efb-043e-4ad4-8533-94c58a90c85d"
      },
      "execution_count": 17,
      "outputs": [
        {
          "output_type": "stream",
          "name": "stdout",
          "text": [
            "epoch= 0 w= 0.8972098231315613 b= 0.05995325744152069\n",
            "epoch= 10 w= 1.7973575592041016 b= 0.4178718030452728\n",
            "epoch= 20 w= 1.825898289680481 b= 0.39502617716789246\n",
            "epoch= 30 w= 1.8383060693740845 b= 0.3675553500652313\n",
            "epoch= 40 w= 1.8496001958847046 b= 0.3418938219547272\n",
            "epoch= 50 w= 1.8601014614105225 b= 0.318022221326828\n",
            "epoch= 60 w= 1.8698694705963135 b= 0.2958172559738159\n",
            "epoch= 70 w= 1.8789554834365845 b= 0.2751627266407013\n",
            "epoch= 80 w= 1.8874070644378662 b= 0.25595027208328247\n",
            "epoch= 90 w= 1.895268440246582 b= 0.23807935416698456\n",
            "y_pred= tensor([7.8306])\n"
          ]
        }
      ]
    },
    {
      "cell_type": "code",
      "source": [
        "plt.plot(epoch_list, loss_list)\n",
        "plt.xlabel('epoches')\n",
        "plt.ylabel('loss')\n",
        "plt.show()"
      ],
      "metadata": {
        "colab": {
          "base_uri": "https://localhost:8080/",
          "height": 279
        },
        "id": "HQkLUNdf5W_4",
        "outputId": "294bd03c-1887-40e2-8df9-d75c1e886acd"
      },
      "execution_count": 18,
      "outputs": [
        {
          "output_type": "display_data",
          "data": {
            "text/plain": [
              "<Figure size 432x288 with 1 Axes>"
            ],
            "image/png": "[encoded data removed]"
          },
          "metadata": {
            "needs_background": "light"
          }
        }
      ]
    },
    {
      "cell_type": "markdown",
      "source": [
        "### 拓展\n",
        "1. `__init__()`作用是初始化类的实例\n",
        "2. `__call__()`作用是使实例可以像函数一样被调用（同时不影响实例本身的生命周期）\n",
        "\n",
        "参数`*args`代表把前面 n 个参数变成元组，`**kwargs`会把参数赋值变成字典"
      ],
      "metadata": {
        "id": "pGdr6UqA-UpR"
      }
    },
    {
      "cell_type": "code",
      "source": [
        "class iter:\n",
        "\tdef __init__(self):\n",
        "\t\tpass\n",
        "\tdef __call__(self, *args, **kwargs):\n",
        "\t\tpass"
      ],
      "metadata": {
        "id": "Tcy7rdCr97BM"
      },
      "execution_count": 19,
      "outputs": []
    },
    {
      "cell_type": "code",
      "source": [
        "def func(*args, **kwargs):\n",
        " \tprint(args)\n",
        " \tprint(kwargs)\n",
        "\n",
        "func(1,2,3,4,x=3,y=5)"
      ],
      "metadata": {
        "colab": {
          "base_uri": "https://localhost:8080/"
        },
        "id": "_oiskas09-Tr",
        "outputId": "791751d1-c6d9-4bae-ed37-646859d8d014"
      },
      "execution_count": 20,
      "outputs": [
        {
          "output_type": "stream",
          "name": "stdout",
          "text": [
            "(1, 2, 3, 4)\n",
            "{'x': 3, 'y': 5}\n"
          ]
        }
      ]
    },
    {
      "cell_type": "markdown",
      "source": [
        "Module实现了魔法函数__call__()，call()里面有一条语句是要调用forward()。因此新写的类中需要重写forward()覆盖掉父类中的forward()"
      ],
      "metadata": {
        "id": "UfjAQEjKJneK"
      }
    }
  ]
}