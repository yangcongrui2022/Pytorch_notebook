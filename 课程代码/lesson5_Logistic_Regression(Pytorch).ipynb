{
  "nbformat": 4,
  "nbformat_minor": 0,
  "metadata": {
    "colab": {
      "provenance": []
    },
    "kernelspec": {
      "name": "python3",
      "display_name": "Python 3"
    },
    "language_info": {
      "name": "python"
    }
  },
  "cells": [
    {
      "cell_type": "code",
      "execution_count": 1,
      "metadata": {
        "id": "lT5l07EMFDyZ"
      },
      "outputs": [],
      "source": [
        "%matplotlib inline\n",
        "import torch\n",
        "import matplotlib.pyplot as plt"
      ]
    },
    {
      "cell_type": "markdown",
      "source": [
        "输入数据为 $3*1$ 矩阵形式\n",
        "\n",
        "logistic回归为分类模型，y 分为 0，1 两类"
      ],
      "metadata": {
        "id": "KUAK6uGMLFxS"
      }
    },
    {
      "cell_type": "code",
      "source": [
        "x_data = torch.tensor([[1.0], [2.0], [3.0]])\n",
        "y_data = torch.tensor([[0.0], [0.0], [1.0]])"
      ],
      "metadata": {
        "id": "g7cNySSPFIvN"
      },
      "execution_count": 2,
      "outputs": []
    },
    {
      "cell_type": "code",
      "source": [
        "class LogisticRegressionModel(torch.nn.Module):\n",
        "  def __init__(self): # 初始化模型\n",
        "    super(LogisticRegressionModel, self).__init__() # 继承父类torch.nn.Module的初始化项\n",
        "    self.linear = torch.nn.Linear(1, 1) # 初始化父类torch.nn.Linear(a, b) a表示数据输入维度，b表示输出维度\n",
        "    self.sigmoid = torch.nn.Sigmoid() # 初始化激活函数sigmoid\n",
        "  def forward(self, x):\n",
        "    y_pred = self.sigmoid(self.linear(x)) # logistic回归就是将linear回归得到的y_pred套上一层sigmoid函数使其落在[0,1]的区间上\n",
        "    return y_pred\n",
        "\n",
        "model = LogisticRegressionModel() # 实例化模型"
      ],
      "metadata": {
        "id": "rRPJ_2ucFOTJ"
      },
      "execution_count": 3,
      "outputs": []
    },
    {
      "cell_type": "code",
      "source": [
        "criterion = torch.nn.BCELoss(size_average=False) # 定义损失函数，回归问题一般用均方误差MSE，分类问题一般用交叉熵CELoss，二分类问题用BCELoss\n",
        "optimizer = torch.optim.SGD(model.parameters(), lr=0.01) # 定义优化器，model.parameters()会扫描module中的所有成员，如果成员中有相应权重，那么都会将结果加到要训练的参数集合上\n",
        "\n",
        "epoch_list = []\n",
        "loss_list = []"
      ],
      "metadata": {
        "colab": {
          "base_uri": "https://localhost:8080/"
        },
        "id": "P178h83-GcGk",
        "outputId": "73c1703d-c8d7-4ba0-b2d2-a6fa9fe4f814"
      },
      "execution_count": 5,
      "outputs": [
        {
          "output_type": "stream",
          "name": "stderr",
          "text": [
            "/usr/local/lib/python3.9/dist-packages/torch/nn/_reduction.py:42: UserWarning: size_average and reduce args will be deprecated, please use reduction='sum' instead.\n",
            "  warnings.warn(warning.format(ret))\n"
          ]
        }
      ]
    },
    {
      "cell_type": "code",
      "source": [
        "for epoch in range(100):\n",
        "  # 1.前向传播计算损失\n",
        "  y_pred = model(x_data)\n",
        "  loss = criterion(y_pred, y_data)\n",
        "\n",
        "  epoch_list.append(epoch)\n",
        "  loss_list.append(loss.item())\n",
        "  # 梯度清零\n",
        "  optimizer.zero_grad()\n",
        "  # 2.反向传播\n",
        "  loss.backward()\n",
        "  # 3.更新参数\n",
        "  optimizer.step()\n",
        "  if epoch % 10 == 0:\n",
        "    print('epoch=', epoch, 'w=', model.linear.weight.item(), 'b=', model.linear.bias.item())\n",
        "\n",
        "x_test = torch.tensor([4.0])\n",
        "y_test = model(x_test)\n",
        "\n",
        "print(\"y_pred=\", y_test)"
      ],
      "metadata": {
        "colab": {
          "base_uri": "https://localhost:8080/"
        },
        "id": "Yru5OFpIG8GH",
        "outputId": "7167002e-77da-46c6-9ca4-ce47805a13ce"
      },
      "execution_count": 6,
      "outputs": [
        {
          "output_type": "stream",
          "name": "stdout",
          "text": [
            "epoch= 0 w= 0.5161425471305847 b= 0.8603742122650146\n",
            "epoch= 10 w= 0.30714645981788635 b= 0.7115687727928162\n",
            "epoch= 20 w= 0.14825628697872162 b= 0.5863597393035889\n",
            "epoch= 30 w= 0.03964047506451607 b= 0.4841214716434479\n",
            "epoch= 40 w= -0.028058333322405815 b= 0.4004144072532654\n",
            "epoch= 50 w= -0.0664329081773758 b= 0.3300652503967285\n",
            "epoch= 60 w= -0.08503486961126328 b= 0.2688729763031006\n",
            "epoch= 70 w= -0.09063666313886642 b= 0.21386586129665375\n",
            "epoch= 80 w= -0.08777784556150436 b= 0.16304929554462433\n",
            "epoch= 90 w= -0.07944322377443314 b= 0.11510863900184631\n",
            "y_pred= tensor([0.4497], grad_fn=<SigmoidBackward0>)\n"
          ]
        }
      ]
    },
    {
      "cell_type": "code",
      "source": [
        "plt.plot(epoch_list, loss_list)\n",
        "plt.xlabel('epoches')\n",
        "plt.ylabel('loss')\n",
        "plt.show()"
      ],
      "metadata": {
        "colab": {
          "base_uri": "https://localhost:8080/",
          "height": 279
        },
        "id": "axRBnkIxH3tT",
        "outputId": "e8807932-399f-4341-83b0-391f606f4a68"
      },
      "execution_count": 7,
      "outputs": [
        {
          "output_type": "display_data",
          "data": {
            "text/plain": [
              "<Figure size 432x288 with 1 Axes>"
            ],
            "image/png": "[encoded data removed]"
          },
          "metadata": {
            "needs_background": "light"
          }
        }
      ]
    }
  ]
}