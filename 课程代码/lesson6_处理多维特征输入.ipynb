{
  "nbformat": 4,
  "nbformat_minor": 0,
  "metadata": {
    "colab": {
      "provenance": []
    },
    "kernelspec": {
      "name": "python3",
      "display_name": "Python 3"
    },
    "language_info": {
      "name": "python"
    }
  },
  "cells": [
    {
      "cell_type": "code",
      "execution_count": 15,
      "metadata": {
        "id": "fUIsvt0vdnkb"
      },
      "outputs": [],
      "source": [
        "%matplotlib inline\n",
        "import numpy as np\n",
        "import matplotlib.pyplot as plt\n",
        "import torch"
      ]
    },
    {
      "cell_type": "markdown",
      "source": [
        "`torch.from_numpy` 可以将 `np.array()` 格式转化为 tensor 张量格式"
      ],
      "metadata": {
        "id": "1ISKZ79jOy7y"
      }
    },
    {
      "cell_type": "code",
      "source": [
        "data = np.loadtxt('diabetes.csv.gz', delimiter=',', dtype=np.float32) # 读取文件，逗号隔开，神经网络一般的浮点数格式为float32\n",
        "x_data = torch.from_numpy(data[:, :-1]) # 取所有行，取除了最后一列的所有列\n",
        "y_data = torch.from_numpy(data[:, [-1]]) # 取所有行，取最后一列\n",
        "x_data.shape, y_data.shape"
      ],
      "metadata": {
        "colab": {
          "base_uri": "https://localhost:8080/"
        },
        "id": "2DP3GO1jdycy",
        "outputId": "bc6f00fd-1b98-417a-bb0f-e162dabeb1d4"
      },
      "execution_count": 16,
      "outputs": [
        {
          "output_type": "execute_result",
          "data": {
            "text/plain": [
              "(torch.Size([759, 8]), torch.Size([759, 1]))"
            ]
          },
          "metadata": {},
          "execution_count": 16
        }
      ]
    },
    {
      "cell_type": "markdown",
      "source": [
        "输入特征是[759, 8]，我们要转换为[759, 1]\n",
        "\n",
        "通过矩阵乘法进行降维将8d降维1d，同时由于是分类问题，要通过激活函数进行非线性变化"
      ],
      "metadata": {
        "id": "wgAVx5Y4lL8d"
      }
    },
    {
      "cell_type": "code",
      "source": [
        "class Model(torch.nn.Module):\n",
        "  def __init__(self):\n",
        "    super(Model, self).__init__()\n",
        "    self.linear1 = torch.nn.Linear(8, 6) # 输入8d，输出6d\n",
        "    self.linear2 = torch.nn.Linear(6, 4) # 输入6d，输出4d\n",
        "    self.linear3 = torch.nn.Linear(4, 1) # 输入4d，输出1d\n",
        "    self.sigmoid = torch.nn.Sigmoid() # 激活函数sigmoid\n",
        "  def forward(self, x):\n",
        "    x = self.sigmoid(self.linear1(x))\n",
        "    x = self.sigmoid(self.linear2(x))\n",
        "    x = self.sigmoid(self.linear3(x)) # y_pred\n",
        "    return x\n",
        "\n",
        "model = Model()"
      ],
      "metadata": {
        "id": "RV8pqpnnej7q"
      },
      "execution_count": 17,
      "outputs": []
    },
    {
      "cell_type": "code",
      "source": [
        "criterion = torch.nn.BCELoss(size_average=True)\n",
        "optimizer = torch.optim.SGD(model.parameters(), lr=0.01)\n",
        "\n",
        "epoch_list = []\n",
        "loss_list = []"
      ],
      "metadata": {
        "id": "ywP50ry9lvz9"
      },
      "execution_count": 18,
      "outputs": []
    },
    {
      "cell_type": "code",
      "source": [
        "for epoch in range(100):\n",
        "  y_pred = model(x_data)\n",
        "  loss = criterion(y_pred, y_data)\n",
        "  \n",
        "  epoch_list.append(epoch)\n",
        "  loss_list.append(loss.item())\n",
        "\n",
        "  optimizer.zero_grad()\n",
        "\n",
        "  loss.backward()\n",
        "  \n",
        "  optimizer.step()\n",
        "\n",
        "  if epoch % 10 == 0:\n",
        "    print(\"epoch=\", epoch, \"loss=\", loss.item())"
      ],
      "metadata": {
        "colab": {
          "base_uri": "https://localhost:8080/"
        },
        "id": "FA-9LirFmP4h",
        "outputId": "9c364f92-24a8-40f1-9463-e9dcc2bc31b5"
      },
      "execution_count": 19,
      "outputs": [
        {
          "output_type": "stream",
          "name": "stdout",
          "text": [
            "epoch= 0 loss= 0.7788090705871582\n",
            "epoch= 10 loss= 0.7636145949363708\n",
            "epoch= 20 loss= 0.7501152157783508\n",
            "epoch= 30 loss= 0.7381343841552734\n",
            "epoch= 40 loss= 0.727510929107666\n",
            "epoch= 50 loss= 0.718097448348999\n",
            "epoch= 60 loss= 0.7097607851028442\n",
            "epoch= 70 loss= 0.7023810744285583\n",
            "epoch= 80 loss= 0.6958505511283875\n",
            "epoch= 90 loss= 0.6900724768638611\n"
          ]
        }
      ]
    },
    {
      "cell_type": "code",
      "source": [
        "plt.plot(epoch_list, loss_list)\n",
        "plt.xlabel('epoches')\n",
        "plt.ylabel('loss')\n",
        "plt.show()"
      ],
      "metadata": {
        "colab": {
          "base_uri": "https://localhost:8080/",
          "height": 279
        },
        "id": "su61tPaTnFyP",
        "outputId": "fa69a03c-a243-48d1-9f7d-49e5608befc4"
      },
      "execution_count": 20,
      "outputs": [
        {
          "output_type": "display_data",
          "data": {
            "text/plain": [
              "<Figure size 432x288 with 1 Axes>"
            ],
            "image/png": "[encoded data removed]"
          },
          "metadata": {
            "needs_background": "light"
          }
        }
      ]
    }
  ]
}